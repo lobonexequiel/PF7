{
 "cells": [
  {
   "cell_type": "code",
   "id": "initial_id",
   "metadata": {
    "collapsed": true,
    "ExecuteTime": {
     "end_time": "2025-03-03T22:47:14.940202Z",
     "start_time": "2025-03-03T22:47:13.602400Z"
    }
   },
   "source": [
    "from typing import Tuple\n",
    "\n",
    "import numpy as np\n",
    "import torch\n",
    "from sklearn.datasets import make_moons\n",
    "import matplotlib.pyplot as plt\n",
    "from torch import nn\n",
    "from tqdm import trange\n",
    "import seaborn as sns\n"
   ],
   "outputs": [],
   "execution_count": 1
  },
  {
   "metadata": {
    "ExecuteTime": {
     "end_time": "2025-03-03T22:47:19.032259Z",
     "start_time": "2025-03-03T22:47:19.028362Z"
    }
   },
   "cell_type": "code",
   "source": [
    "X, y = make_moons(n_samples=1000)\n",
    "X.shape"
   ],
   "id": "25dd148e5f724273",
   "outputs": [
    {
     "data": {
      "text/plain": [
       "(1000, 2)"
      ]
     },
     "execution_count": 2,
     "metadata": {},
     "output_type": "execute_result"
    }
   ],
   "execution_count": 2
  },
  {
   "metadata": {
    "ExecuteTime": {
     "end_time": "2025-03-03T22:14:37.418826Z",
     "start_time": "2025-03-03T22:14:37.416171Z"
    }
   },
   "cell_type": "code",
   "source": "X",
   "id": "967ea8b195176f57",
   "outputs": [
    {
     "data": {
      "text/plain": [
       "array([[ 0.24002093,  0.97076771],\n",
       "       [ 0.33524768, -0.24706382],\n",
       "       [ 1.39500896, -0.41867727],\n",
       "       ...,\n",
       "       [ 0.98953437,  0.14429736],\n",
       "       [ 0.28956227, -0.20376007],\n",
       "       [ 0.30662096,  0.9518317 ]])"
      ]
     },
     "execution_count": 45,
     "metadata": {},
     "output_type": "execute_result"
    }
   ],
   "execution_count": 45
  },
  {
   "metadata": {
    "ExecuteTime": {
     "end_time": "2025-03-03T22:47:24.487835Z",
     "start_time": "2025-03-03T22:47:23.285508Z"
    }
   },
   "cell_type": "code",
   "source": [
    "import pickle\n",
    "\n",
    "with open('data/paths.pkl', 'rb') as f:\n",
    "    paths = pickle.load(f)\n",
    "X = np.array(paths)  #[:, 0]\n",
    "# x, y, theta1, theta2\n",
    "X = X[:, :, [1, 3, 0, 2]]\n",
    "print(X.shape)\n"
   ],
   "id": "f9680de76c5280fe",
   "outputs": [
    {
     "name": "stdout",
     "output_type": "stream",
     "text": [
      "(10000, 3001, 4)\n"
     ]
    }
   ],
   "execution_count": 3
  },
  {
   "metadata": {
    "ExecuteTime": {
     "end_time": "2025-03-03T22:47:24.727957Z",
     "start_time": "2025-03-03T22:47:24.555201Z"
    }
   },
   "cell_type": "code",
   "source": [
    "X = torch.tensor(X, dtype=torch.float32)\n",
    "L1, L2 = 1, 1\n",
    "len_range = L1 + L2\n",
    "ang_range = np.pi * 2\n",
    "X[:, :, 0:2] /= len_range\n",
    "X[:, :, 2:] /= ang_range\n",
    "X"
   ],
   "id": "e5a64ca4d525da19",
   "outputs": [
    {
     "data": {
      "text/plain": [
       "tensor([[[ 0.9012, -0.5628, -0.1439, -0.2373],\n",
       "         [ 0.9202, -0.5202, -0.1410, -0.2390],\n",
       "         [ 0.9386, -0.4758, -0.1380, -0.2406],\n",
       "         ...,\n",
       "         [-1.6671,  0.6742,  0.1430,  0.1446],\n",
       "         [-1.7016,  0.6680,  0.1376,  0.1467],\n",
       "         [-1.7304,  0.6525,  0.1321,  0.1488]],\n",
       "\n",
       "        [[ 0.1325,  0.7296,  0.3401, -0.2458],\n",
       "         [ 0.1047,  0.7545,  0.3405, -0.2434],\n",
       "         [ 0.0771,  0.7795,  0.3408, -0.2410],\n",
       "         ...,\n",
       "         [-0.8318, -1.3840,  0.5829,  4.0991],\n",
       "         [-0.8142, -1.3932,  0.5803,  4.0946],\n",
       "         [-0.7966, -1.4015,  0.5777,  4.0902]],\n",
       "\n",
       "        [[ 0.4561,  0.9554,  0.0141,  0.2495],\n",
       "         [ 0.4625,  0.9016,  0.0155,  0.2524],\n",
       "         [ 0.4672,  0.8479,  0.0170,  0.2552],\n",
       "         ...,\n",
       "         [ 0.6194,  0.8884, -0.0106,  0.2469],\n",
       "         [ 0.6284,  0.8320, -0.0086,  0.2496],\n",
       "         [ 0.6356,  0.7753, -0.0066,  0.2522]],\n",
       "\n",
       "        ...,\n",
       "\n",
       "        [[-0.0917,  0.1183,  0.3714,  0.0285],\n",
       "         [-0.1364,  0.0852,  0.3710,  0.0288],\n",
       "         [-0.1810,  0.0524,  0.3705,  0.0290],\n",
       "         ...,\n",
       "         [-1.8334, -3.6645, -0.0111, -3.4849],\n",
       "         [-1.8510, -3.6692, -0.0170, -3.4965],\n",
       "         [-1.8615, -3.6727, -0.0229, -3.5082]],\n",
       "\n",
       "        [[ 0.9440,  0.5028, -0.1917,  0.2033],\n",
       "         [ 0.9789,  0.4718, -0.1886,  0.2048],\n",
       "         [ 1.0124,  0.4384, -0.1854,  0.2063],\n",
       "         ...,\n",
       "         [ 2.0312, -2.3345,  0.0164,  0.1722],\n",
       "         [ 2.1212, -2.5000,  0.0230,  0.1645],\n",
       "         [ 2.2228, -2.6795,  0.0300,  0.1563]],\n",
       "\n",
       "        [[-0.9694,  0.7880, -0.2300,  0.1838],\n",
       "         [-0.9240,  0.7733, -0.2330,  0.1863],\n",
       "         [-0.8778,  0.7611, -0.2359,  0.1887],\n",
       "         ...,\n",
       "         [-1.0407,  4.2257,  0.1288, -2.9060],\n",
       "         [-1.1431,  4.3015,  0.1253, -2.8924],\n",
       "         [-1.2019,  4.3295,  0.1216, -2.8787]]])"
      ]
     },
     "execution_count": 4,
     "metadata": {},
     "output_type": "execute_result"
    }
   ],
   "execution_count": 4
  },
  {
   "metadata": {
    "ExecuteTime": {
     "end_time": "2025-03-03T22:47:26.299491Z",
     "start_time": "2025-03-03T22:47:26.296780Z"
    }
   },
   "cell_type": "code",
   "source": [
    "class ForwardProcess:\n",
    "    def __init__(self, betas: torch.Tensor):\n",
    "        self.beta = betas\n",
    "\n",
    "        self.alphas = 1. - betas\n",
    "        self.alpha_bar = torch.cumprod(self.alphas, dim=-1)\n",
    "\n",
    "    def get_x_t(self, x_0: torch.Tensor, t: torch.LongTensor) -> Tuple[torch.Tensor, torch.Tensor]:\n",
    "        \"\"\"Forward diffusion process given the unperturbed sample x_0.\n",
    "        \n",
    "        Args:\n",
    "            x_0: Original, unperturbed samples.\n",
    "            t: Target timestamp of the diffusion process of each sample.\n",
    "        \n",
    "        Returns:\n",
    "            Noise added to original sample and perturbed sample.\n",
    "        \"\"\"\n",
    "        eps_0 = torch.randn_like(x_0).to(x_0).to('cuda')\n",
    "        alpha_bar = self.alpha_bar[t, None].unsqueeze(1).expand(-1, 3001, -1)\n",
    "        mean = (alpha_bar ** 0.5) * x_0\n",
    "        std = ((1. - alpha_bar) ** 0.5)\n",
    "\n",
    "        return (eps_0, mean + std * eps_0)\n"
   ],
   "id": "b5875b4a5931b7d7",
   "outputs": [],
   "execution_count": 5
  },
  {
   "metadata": {
    "ExecuteTime": {
     "end_time": "2025-03-03T22:47:27.318202Z",
     "start_time": "2025-03-03T22:47:26.708024Z"
    }
   },
   "cell_type": "code",
   "source": [
    "T = 500  # Number of diffusion steps\n",
    "betas = torch.linspace(0.0001, 0.02, T + 1, device='cuda') ** 4\n",
    "fp = ForwardProcess(betas=betas)\n",
    "x_t = X.clone().to('cuda')"
   ],
   "id": "d6eedb2f5b195dcb",
   "outputs": [],
   "execution_count": 6
  },
  {
   "metadata": {
    "ExecuteTime": {
     "end_time": "2025-03-03T22:47:27.426457Z",
     "start_time": "2025-03-03T22:47:27.423583Z"
    }
   },
   "cell_type": "code",
   "source": "fp.alphas.shape",
   "id": "b40c5c4e72b052ec",
   "outputs": [
    {
     "data": {
      "text/plain": [
       "torch.Size([501])"
      ]
     },
     "execution_count": 7,
     "metadata": {},
     "output_type": "execute_result"
    }
   ],
   "execution_count": 7
  },
  {
   "metadata": {
    "ExecuteTime": {
     "end_time": "2025-03-03T22:47:28.024651Z",
     "start_time": "2025-03-03T22:47:28.022010Z"
    }
   },
   "cell_type": "code",
   "source": [
    "class NoisePredictor(nn.Module):\n",
    "\n",
    "    def __init__(self, T):\n",
    "        super().__init__()\n",
    "        self.T = T\n",
    "        self.t_encoder = nn.Linear(T, 1)\n",
    "\n",
    "        self.model = nn.Sequential(\n",
    "            nn.Linear(4 + 1, 100),  # Input: Noisy data x_t and t\n",
    "            nn.LeakyReLU(inplace=True),\n",
    "            # nn.Linear(100, 100),\n",
    "            # nn.LeakyReLU(inplace=True),\n",
    "            # nn.Linear(100, 100),\n",
    "            # nn.LeakyReLU(inplace=True),\n",
    "            nn.Linear(100, 20),\n",
    "            nn.LeakyReLU(inplace=True),\n",
    "            # Output: Predicted noise that was added to the original data point\n",
    "            nn.Linear(20, 4),\n",
    "        )\n",
    "\n",
    "    def forward(self, x_t, t):\n",
    "        # Encode the time index t as one-hot and then use one layer to encode\n",
    "        # into a single value\n",
    "        t_embedding = self.t_encoder(\n",
    "            nn.functional.one_hot(t - 1, num_classes=self.T).to(torch.float)\n",
    "        )\n",
    "        t_embedding = t_embedding.unsqueeze(1).expand(-1, 3001, -1)\n",
    "        inp = torch.cat([x_t, t_embedding], dim=-1)\n",
    "        return self.model(inp)\n"
   ],
   "id": "9f1d9d3ef6cbf880",
   "outputs": [],
   "execution_count": 8
  },
  {
   "metadata": {
    "ExecuteTime": {
     "end_time": "2025-03-03T22:47:30.196168Z",
     "start_time": "2025-03-03T22:47:28.998544Z"
    }
   },
   "cell_type": "code",
   "source": [
    "model = NoisePredictor(T=T).to('cuda')\n",
    "optimizer = torch.optim.AdamW(params=model.parameters(), lr=1e-2, betas=(0.9, 0.999), weight_decay=1e-4)\n",
    "loss_history = []\n",
    "N = X.shape[0]\n",
    "X = X.to('cuda')\n",
    "for epoch in trange(1000):\n",
    "    with torch.no_grad():\n",
    "        # Sample random t's\n",
    "        t = torch.randint(low=1, high=T + 1, size=(N,), device='cuda')\n",
    "\n",
    "        # Get the noise added and the noisy version of the data using the forward\n",
    "        # process given t\n",
    "        eps_0, x_t = fp.get_x_t(X, t=t)\n",
    "    eps_0 = eps_0.to('cuda')\n",
    "    x_t = x_t.to('cuda')\n",
    "    # Predict the noise added to x_0 from x_t\n",
    "    pred_eps = model(x_t, t)\n",
    "\n",
    "    # Simplified objective without weighting with alpha terms (Ho et al, 2020)\n",
    "    loss = torch.nn.functional.mse_loss(pred_eps, eps_0)\n",
    "    loss_history.append(float(loss))\n",
    "    loss.backward()\n",
    "    optimizer.step()\n",
    "    optimizer.zero_grad()\n",
    "plt.plot(loss_history)"
   ],
   "id": "c912ea9061b65297",
   "outputs": [
    {
     "name": "stderr",
     "output_type": "stream",
     "text": [
      "  0%|          | 0/1000 [00:00<?, ?it/s]\n"
     ]
    },
    {
     "ename": "OutOfMemoryError",
     "evalue": "CUDA out of memory. Tried to allocate 2.24 GiB. GPU 0 has a total capacity of 23.58 GiB of which 1.70 GiB is free. Including non-PyTorch memory, this process has 21.11 GiB memory in use. Of the allocated memory 20.72 GiB is allocated by PyTorch, and 84.18 MiB is reserved by PyTorch but unallocated. If reserved but unallocated memory is large try setting PYTORCH_CUDA_ALLOC_CONF=expandable_segments:True to avoid fragmentation.  See documentation for Memory Management  (https://pytorch.org/docs/stable/notes/cuda.html#environment-variables)",
     "output_type": "error",
     "traceback": [
      "\u001B[0;31m---------------------------------------------------------------------------\u001B[0m",
      "\u001B[0;31mOutOfMemoryError\u001B[0m                          Traceback (most recent call last)",
      "Cell \u001B[0;32mIn[9], line 22\u001B[0m\n\u001B[1;32m     20\u001B[0m loss \u001B[38;5;241m=\u001B[39m torch\u001B[38;5;241m.\u001B[39mnn\u001B[38;5;241m.\u001B[39mfunctional\u001B[38;5;241m.\u001B[39mmse_loss(pred_eps, eps_0)\n\u001B[1;32m     21\u001B[0m loss_history\u001B[38;5;241m.\u001B[39mappend(\u001B[38;5;28mfloat\u001B[39m(loss))\n\u001B[0;32m---> 22\u001B[0m loss\u001B[38;5;241m.\u001B[39mbackward()\n\u001B[1;32m     23\u001B[0m optimizer\u001B[38;5;241m.\u001B[39mstep()\n\u001B[1;32m     24\u001B[0m optimizer\u001B[38;5;241m.\u001B[39mzero_grad()\n",
      "File \u001B[0;32m~/miniconda3/lib/python3.12/site-packages/torch/_tensor.py:626\u001B[0m, in \u001B[0;36mTensor.backward\u001B[0;34m(self, gradient, retain_graph, create_graph, inputs)\u001B[0m\n\u001B[1;32m    616\u001B[0m \u001B[38;5;28;01mif\u001B[39;00m has_torch_function_unary(\u001B[38;5;28mself\u001B[39m):\n\u001B[1;32m    617\u001B[0m     \u001B[38;5;28;01mreturn\u001B[39;00m handle_torch_function(\n\u001B[1;32m    618\u001B[0m         Tensor\u001B[38;5;241m.\u001B[39mbackward,\n\u001B[1;32m    619\u001B[0m         (\u001B[38;5;28mself\u001B[39m,),\n\u001B[0;32m   (...)\u001B[0m\n\u001B[1;32m    624\u001B[0m         inputs\u001B[38;5;241m=\u001B[39minputs,\n\u001B[1;32m    625\u001B[0m     )\n\u001B[0;32m--> 626\u001B[0m torch\u001B[38;5;241m.\u001B[39mautograd\u001B[38;5;241m.\u001B[39mbackward(\n\u001B[1;32m    627\u001B[0m     \u001B[38;5;28mself\u001B[39m, gradient, retain_graph, create_graph, inputs\u001B[38;5;241m=\u001B[39minputs\n\u001B[1;32m    628\u001B[0m )\n",
      "File \u001B[0;32m~/miniconda3/lib/python3.12/site-packages/torch/autograd/__init__.py:347\u001B[0m, in \u001B[0;36mbackward\u001B[0;34m(tensors, grad_tensors, retain_graph, create_graph, grad_variables, inputs)\u001B[0m\n\u001B[1;32m    342\u001B[0m     retain_graph \u001B[38;5;241m=\u001B[39m create_graph\n\u001B[1;32m    344\u001B[0m \u001B[38;5;66;03m# The reason we repeat the same comment below is that\u001B[39;00m\n\u001B[1;32m    345\u001B[0m \u001B[38;5;66;03m# some Python versions print out the first line of a multi-line function\u001B[39;00m\n\u001B[1;32m    346\u001B[0m \u001B[38;5;66;03m# calls in the traceback and some print out the last line\u001B[39;00m\n\u001B[0;32m--> 347\u001B[0m _engine_run_backward(\n\u001B[1;32m    348\u001B[0m     tensors,\n\u001B[1;32m    349\u001B[0m     grad_tensors_,\n\u001B[1;32m    350\u001B[0m     retain_graph,\n\u001B[1;32m    351\u001B[0m     create_graph,\n\u001B[1;32m    352\u001B[0m     inputs,\n\u001B[1;32m    353\u001B[0m     allow_unreachable\u001B[38;5;241m=\u001B[39m\u001B[38;5;28;01mTrue\u001B[39;00m,\n\u001B[1;32m    354\u001B[0m     accumulate_grad\u001B[38;5;241m=\u001B[39m\u001B[38;5;28;01mTrue\u001B[39;00m,\n\u001B[1;32m    355\u001B[0m )\n",
      "File \u001B[0;32m~/miniconda3/lib/python3.12/site-packages/torch/autograd/graph.py:823\u001B[0m, in \u001B[0;36m_engine_run_backward\u001B[0;34m(t_outputs, *args, **kwargs)\u001B[0m\n\u001B[1;32m    821\u001B[0m     unregister_hooks \u001B[38;5;241m=\u001B[39m _register_logging_hooks_on_whole_graph(t_outputs)\n\u001B[1;32m    822\u001B[0m \u001B[38;5;28;01mtry\u001B[39;00m:\n\u001B[0;32m--> 823\u001B[0m     \u001B[38;5;28;01mreturn\u001B[39;00m Variable\u001B[38;5;241m.\u001B[39m_execution_engine\u001B[38;5;241m.\u001B[39mrun_backward(  \u001B[38;5;66;03m# Calls into the C++ engine to run the backward pass\u001B[39;00m\n\u001B[1;32m    824\u001B[0m         t_outputs, \u001B[38;5;241m*\u001B[39margs, \u001B[38;5;241m*\u001B[39m\u001B[38;5;241m*\u001B[39mkwargs\n\u001B[1;32m    825\u001B[0m     )  \u001B[38;5;66;03m# Calls into the C++ engine to run the backward pass\u001B[39;00m\n\u001B[1;32m    826\u001B[0m \u001B[38;5;28;01mfinally\u001B[39;00m:\n\u001B[1;32m    827\u001B[0m     \u001B[38;5;28;01mif\u001B[39;00m attach_logging_hooks:\n",
      "\u001B[0;31mOutOfMemoryError\u001B[0m: CUDA out of memory. Tried to allocate 2.24 GiB. GPU 0 has a total capacity of 23.58 GiB of which 1.70 GiB is free. Including non-PyTorch memory, this process has 21.11 GiB memory in use. Of the allocated memory 20.72 GiB is allocated by PyTorch, and 84.18 MiB is reserved by PyTorch but unallocated. If reserved but unallocated memory is large try setting PYTORCH_CUDA_ALLOC_CONF=expandable_segments:True to avoid fragmentation.  See documentation for Memory Management  (https://pytorch.org/docs/stable/notes/cuda.html#environment-variables)"
     ]
    }
   ],
   "execution_count": 9
  },
  {
   "metadata": {
    "ExecuteTime": {
     "end_time": "2025-03-03T22:03:35.758288Z",
     "start_time": "2025-03-03T22:03:35.675873Z"
    }
   },
   "cell_type": "code",
   "source": "",
   "id": "4687f4f4b9c38e4d",
   "outputs": [
    {
     "data": {
      "text/plain": [
       "[<matplotlib.lines.Line2D at 0x77b9a85421e0>]"
      ]
     },
     "execution_count": 15,
     "metadata": {},
     "output_type": "execute_result"
    },
    {
     "data": {
      "text/plain": [
       "<Figure size 640x480 with 1 Axes>"
      ],
      "image/png": "[encoded data removed]"
     },
     "metadata": {},
     "output_type": "display_data"
    }
   ],
   "execution_count": 15
  },
  {
   "metadata": {
    "ExecuteTime": {
     "end_time": "2025-03-03T21:58:06.266610Z",
     "start_time": "2025-03-03T21:58:06.262881Z"
    }
   },
   "cell_type": "code",
   "source": [
    "class ReverseProcess(ForwardProcess):\n",
    "    def __init__(self, betas: torch.Tensor, model: nn.Module):\n",
    "        super().__init__(betas)\n",
    "        self.model = model.to('cuda')\n",
    "        self.T = len(betas) - 1\n",
    "\n",
    "        self.sigma = (\n",
    "                             (1 - self.alphas)\n",
    "                             * (1 - torch.roll(self.alpha_bar, 1)) / (1 - self.alpha_bar)\n",
    "                     ) ** 0.5\n",
    "        self.sigma[1] = 0.\n",
    "\n",
    "    def get_x_t_minus_one(self, x_t: torch.Tensor, t: int) -> torch.Tensor:\n",
    "        with torch.no_grad():\n",
    "            t_vector = torch.full(size=(len(x_t),), fill_value=t, dtype=torch.long, device='cuda')\n",
    "            eps = self.model(x_t, t=t_vector)\n",
    "        print(eps)\n",
    "        eps *= (1 - self.alphas[t]) / ((1 - self.alpha_bar[t]) ** 0.5)\n",
    "        mean = 1 / (self.alphas[t] ** 0.5) * (x_t - eps)\n",
    "        return mean + self.sigma[t] * torch.randn_like(x_t)\n",
    "\n",
    "    def sample(self, n_samples=1, full_trajectory=False):\n",
    "        # Initialize with X_T ~ N(0, I)\n",
    "        x_t = torch.randn(n_samples, 4)\n",
    "        trajectory = [x_t.clone()]\n",
    "\n",
    "        for t in range(self.T, 0, -1):\n",
    "            x_t = self.get_x_t_minus_one(x_t, t=t)\n",
    "\n",
    "            if full_trajectory:\n",
    "                trajectory.append(x_t.clone())\n",
    "        return torch.stack(trajectory, dim=0) if full_trajectory else x_t\n"
   ],
   "id": "af1dbbed6d7195db",
   "outputs": [],
   "execution_count": 346
  },
  {
   "metadata": {
    "ExecuteTime": {
     "end_time": "2025-03-03T22:01:14.404672Z",
     "start_time": "2025-03-03T22:01:14.395558Z"
    }
   },
   "cell_type": "code",
   "source": [
    "t = 4\n",
    "n_samples = 1_000\n",
    "x_t = torch.randn(n_samples, 4, device='cuda')\n",
    "rp = ReverseProcess(betas=betas, model=model)\n",
    "rp.get_x_t_minus_one(x_t, t=t)"
   ],
   "id": "40ab0ebcf46955bd",
   "outputs": [
    {
     "ename": "RuntimeError",
     "evalue": "CUDA error: device-side assert triggered\nCUDA kernel errors might be asynchronously reported at some other API call, so the stacktrace below might be incorrect.\nFor debugging consider passing CUDA_LAUNCH_BLOCKING=1\nCompile with `TORCH_USE_CUDA_DSA` to enable device-side assertions.\n",
     "output_type": "error",
     "traceback": [
      "\u001B[0;31m---------------------------------------------------------------------------\u001B[0m",
      "\u001B[0;31mRuntimeError\u001B[0m                              Traceback (most recent call last)",
      "Cell \u001B[0;32mIn[350], line 3\u001B[0m\n\u001B[1;32m      1\u001B[0m t \u001B[38;5;241m=\u001B[39m \u001B[38;5;241m4\u001B[39m\n\u001B[1;32m      2\u001B[0m n_samples \u001B[38;5;241m=\u001B[39m \u001B[38;5;241m1_000\u001B[39m\n\u001B[0;32m----> 3\u001B[0m x_t \u001B[38;5;241m=\u001B[39m torch\u001B[38;5;241m.\u001B[39mrandn(n_samples, \u001B[38;5;241m4\u001B[39m, device\u001B[38;5;241m=\u001B[39m\u001B[38;5;124m'\u001B[39m\u001B[38;5;124mcuda\u001B[39m\u001B[38;5;124m'\u001B[39m)\n\u001B[1;32m      4\u001B[0m rp \u001B[38;5;241m=\u001B[39m ReverseProcess(betas\u001B[38;5;241m=\u001B[39mbetas, model\u001B[38;5;241m=\u001B[39mmodel)\n\u001B[1;32m      5\u001B[0m rp\u001B[38;5;241m.\u001B[39mget_x_t_minus_one(x_t, t\u001B[38;5;241m=\u001B[39mt)\n",
      "\u001B[0;31mRuntimeError\u001B[0m: CUDA error: device-side assert triggered\nCUDA kernel errors might be asynchronously reported at some other API call, so the stacktrace below might be incorrect.\nFor debugging consider passing CUDA_LAUNCH_BLOCKING=1\nCompile with `TORCH_USE_CUDA_DSA` to enable device-side assertions.\n"
     ]
    }
   ],
   "execution_count": 350
  },
  {
   "metadata": {
    "ExecuteTime": {
     "end_time": "2025-03-03T21:58:12.226621Z",
     "start_time": "2025-03-03T21:58:12.179984Z"
    }
   },
   "cell_type": "code",
   "source": [
    "\n",
    "samples = rp.sample(n_samples=1_000).cpu().numpy()\n"
   ],
   "id": "c8c85d018a101b1a",
   "outputs": [
    {
     "ename": "RuntimeError",
     "evalue": "Expected all tensors to be on the same device, but found at least two devices, cpu and cuda:0! (when checking argument for argument tensors in method wrapper_CUDA_cat)",
     "output_type": "error",
     "traceback": [
      "\u001B[0;31m---------------------------------------------------------------------------\u001B[0m",
      "\u001B[0;31mRuntimeError\u001B[0m                              Traceback (most recent call last)",
      "Cell \u001B[0;32mIn[347], line 2\u001B[0m\n\u001B[1;32m      1\u001B[0m rp \u001B[38;5;241m=\u001B[39m ReverseProcess(betas\u001B[38;5;241m=\u001B[39mbetas, model\u001B[38;5;241m=\u001B[39mmodel)\n\u001B[0;32m----> 2\u001B[0m samples \u001B[38;5;241m=\u001B[39m rp\u001B[38;5;241m.\u001B[39msample(n_samples\u001B[38;5;241m=\u001B[39m\u001B[38;5;241m1_000\u001B[39m)\u001B[38;5;241m.\u001B[39mcpu()\u001B[38;5;241m.\u001B[39mnumpy()\n",
      "Cell \u001B[0;32mIn[346], line 28\u001B[0m, in \u001B[0;36mReverseProcess.sample\u001B[0;34m(self, n_samples, full_trajectory)\u001B[0m\n\u001B[1;32m     25\u001B[0m trajectory \u001B[38;5;241m=\u001B[39m [x_t\u001B[38;5;241m.\u001B[39mclone()]\n\u001B[1;32m     27\u001B[0m \u001B[38;5;28;01mfor\u001B[39;00m t \u001B[38;5;129;01min\u001B[39;00m \u001B[38;5;28mrange\u001B[39m(\u001B[38;5;28mself\u001B[39m\u001B[38;5;241m.\u001B[39mT, \u001B[38;5;241m0\u001B[39m, \u001B[38;5;241m-\u001B[39m\u001B[38;5;241m1\u001B[39m):\n\u001B[0;32m---> 28\u001B[0m     x_t \u001B[38;5;241m=\u001B[39m \u001B[38;5;28mself\u001B[39m\u001B[38;5;241m.\u001B[39mget_x_t_minus_one(x_t, t\u001B[38;5;241m=\u001B[39mt)\n\u001B[1;32m     30\u001B[0m     \u001B[38;5;28;01mif\u001B[39;00m full_trajectory:\n\u001B[1;32m     31\u001B[0m         trajectory\u001B[38;5;241m.\u001B[39mappend(x_t\u001B[38;5;241m.\u001B[39mclone())\n",
      "Cell \u001B[0;32mIn[346], line 16\u001B[0m, in \u001B[0;36mReverseProcess.get_x_t_minus_one\u001B[0;34m(self, x_t, t)\u001B[0m\n\u001B[1;32m     14\u001B[0m \u001B[38;5;28;01mwith\u001B[39;00m torch\u001B[38;5;241m.\u001B[39mno_grad():\n\u001B[1;32m     15\u001B[0m     t_vector \u001B[38;5;241m=\u001B[39m torch\u001B[38;5;241m.\u001B[39mfull(size\u001B[38;5;241m=\u001B[39m(\u001B[38;5;28mlen\u001B[39m(x_t),), fill_value\u001B[38;5;241m=\u001B[39mt, dtype\u001B[38;5;241m=\u001B[39mtorch\u001B[38;5;241m.\u001B[39mlong, device\u001B[38;5;241m=\u001B[39m\u001B[38;5;124m'\u001B[39m\u001B[38;5;124mcuda\u001B[39m\u001B[38;5;124m'\u001B[39m)\n\u001B[0;32m---> 16\u001B[0m     eps \u001B[38;5;241m=\u001B[39m \u001B[38;5;28mself\u001B[39m\u001B[38;5;241m.\u001B[39mmodel(x_t, t\u001B[38;5;241m=\u001B[39mt_vector)\n\u001B[1;32m     17\u001B[0m \u001B[38;5;28mprint\u001B[39m(eps)\n\u001B[1;32m     18\u001B[0m eps \u001B[38;5;241m*\u001B[39m\u001B[38;5;241m=\u001B[39m (\u001B[38;5;241m1\u001B[39m \u001B[38;5;241m-\u001B[39m \u001B[38;5;28mself\u001B[39m\u001B[38;5;241m.\u001B[39malphas[t]) \u001B[38;5;241m/\u001B[39m ((\u001B[38;5;241m1\u001B[39m \u001B[38;5;241m-\u001B[39m \u001B[38;5;28mself\u001B[39m\u001B[38;5;241m.\u001B[39malpha_bar[t]) \u001B[38;5;241m*\u001B[39m\u001B[38;5;241m*\u001B[39m \u001B[38;5;241m0.5\u001B[39m)\n",
      "File \u001B[0;32m~/miniconda3/lib/python3.12/site-packages/torch/nn/modules/module.py:1739\u001B[0m, in \u001B[0;36mModule._wrapped_call_impl\u001B[0;34m(self, *args, **kwargs)\u001B[0m\n\u001B[1;32m   1737\u001B[0m     \u001B[38;5;28;01mreturn\u001B[39;00m \u001B[38;5;28mself\u001B[39m\u001B[38;5;241m.\u001B[39m_compiled_call_impl(\u001B[38;5;241m*\u001B[39margs, \u001B[38;5;241m*\u001B[39m\u001B[38;5;241m*\u001B[39mkwargs)  \u001B[38;5;66;03m# type: ignore[misc]\u001B[39;00m\n\u001B[1;32m   1738\u001B[0m \u001B[38;5;28;01melse\u001B[39;00m:\n\u001B[0;32m-> 1739\u001B[0m     \u001B[38;5;28;01mreturn\u001B[39;00m \u001B[38;5;28mself\u001B[39m\u001B[38;5;241m.\u001B[39m_call_impl(\u001B[38;5;241m*\u001B[39margs, \u001B[38;5;241m*\u001B[39m\u001B[38;5;241m*\u001B[39mkwargs)\n",
      "File \u001B[0;32m~/miniconda3/lib/python3.12/site-packages/torch/nn/modules/module.py:1750\u001B[0m, in \u001B[0;36mModule._call_impl\u001B[0;34m(self, *args, **kwargs)\u001B[0m\n\u001B[1;32m   1745\u001B[0m \u001B[38;5;66;03m# If we don't have any hooks, we want to skip the rest of the logic in\u001B[39;00m\n\u001B[1;32m   1746\u001B[0m \u001B[38;5;66;03m# this function, and just call forward.\u001B[39;00m\n\u001B[1;32m   1747\u001B[0m \u001B[38;5;28;01mif\u001B[39;00m \u001B[38;5;129;01mnot\u001B[39;00m (\u001B[38;5;28mself\u001B[39m\u001B[38;5;241m.\u001B[39m_backward_hooks \u001B[38;5;129;01mor\u001B[39;00m \u001B[38;5;28mself\u001B[39m\u001B[38;5;241m.\u001B[39m_backward_pre_hooks \u001B[38;5;129;01mor\u001B[39;00m \u001B[38;5;28mself\u001B[39m\u001B[38;5;241m.\u001B[39m_forward_hooks \u001B[38;5;129;01mor\u001B[39;00m \u001B[38;5;28mself\u001B[39m\u001B[38;5;241m.\u001B[39m_forward_pre_hooks\n\u001B[1;32m   1748\u001B[0m         \u001B[38;5;129;01mor\u001B[39;00m _global_backward_pre_hooks \u001B[38;5;129;01mor\u001B[39;00m _global_backward_hooks\n\u001B[1;32m   1749\u001B[0m         \u001B[38;5;129;01mor\u001B[39;00m _global_forward_hooks \u001B[38;5;129;01mor\u001B[39;00m _global_forward_pre_hooks):\n\u001B[0;32m-> 1750\u001B[0m     \u001B[38;5;28;01mreturn\u001B[39;00m forward_call(\u001B[38;5;241m*\u001B[39margs, \u001B[38;5;241m*\u001B[39m\u001B[38;5;241m*\u001B[39mkwargs)\n\u001B[1;32m   1752\u001B[0m result \u001B[38;5;241m=\u001B[39m \u001B[38;5;28;01mNone\u001B[39;00m\n\u001B[1;32m   1753\u001B[0m called_always_called_hooks \u001B[38;5;241m=\u001B[39m \u001B[38;5;28mset\u001B[39m()\n",
      "Cell \u001B[0;32mIn[314], line 28\u001B[0m, in \u001B[0;36mNoisePredictor.forward\u001B[0;34m(self, x_t, t)\u001B[0m\n\u001B[1;32m     21\u001B[0m \u001B[38;5;28;01mdef\u001B[39;00m \u001B[38;5;21mforward\u001B[39m(\u001B[38;5;28mself\u001B[39m, x_t, t):\n\u001B[1;32m     22\u001B[0m     \u001B[38;5;66;03m# Encode the time index t as one-hot and then use one layer to encode\u001B[39;00m\n\u001B[1;32m     23\u001B[0m     \u001B[38;5;66;03m# into a single value\u001B[39;00m\n\u001B[1;32m     24\u001B[0m     t_embedding \u001B[38;5;241m=\u001B[39m \u001B[38;5;28mself\u001B[39m\u001B[38;5;241m.\u001B[39mt_encoder(\n\u001B[1;32m     25\u001B[0m         nn\u001B[38;5;241m.\u001B[39mfunctional\u001B[38;5;241m.\u001B[39mone_hot(t \u001B[38;5;241m-\u001B[39m \u001B[38;5;241m1\u001B[39m, num_classes\u001B[38;5;241m=\u001B[39m\u001B[38;5;28mself\u001B[39m\u001B[38;5;241m.\u001B[39mT)\u001B[38;5;241m.\u001B[39mto(torch\u001B[38;5;241m.\u001B[39mfloat)\n\u001B[1;32m     26\u001B[0m     )\n\u001B[0;32m---> 28\u001B[0m     inp \u001B[38;5;241m=\u001B[39m torch\u001B[38;5;241m.\u001B[39mcat([x_t, t_embedding], dim\u001B[38;5;241m=\u001B[39m\u001B[38;5;241m1\u001B[39m)\n\u001B[1;32m     29\u001B[0m     \u001B[38;5;28;01mreturn\u001B[39;00m \u001B[38;5;28mself\u001B[39m\u001B[38;5;241m.\u001B[39mmodel(inp)\n",
      "\u001B[0;31mRuntimeError\u001B[0m: Expected all tensors to be on the same device, but found at least two devices, cpu and cuda:0! (when checking argument for argument tensors in method wrapper_CUDA_cat)"
     ]
    }
   ],
   "execution_count": 347
  },
  {
   "metadata": {
    "ExecuteTime": {
     "end_time": "2025-03-02T22:08:59.075057Z",
     "start_time": "2025-03-02T22:08:59.019738Z"
    }
   },
   "cell_type": "code",
   "source": "plt.scatter(samples[:, 0], samples[:, 1])",
   "id": "383dbbdac8afcd80",
   "outputs": [
    {
     "data": {
      "text/plain": [
       "<matplotlib.collections.PathCollection at 0x7bdbd1a020c0>"
      ]
     },
     "execution_count": 158,
     "metadata": {},
     "output_type": "execute_result"
    },
    {
     "data": {
      "text/plain": [
       "<Figure size 640x480 with 1 Axes>"
      ],
      "image/png": "[encoded data removed]"
     },
     "metadata": {},
     "output_type": "display_data"
    }
   ],
   "execution_count": 158
  }
 ],
 "metadata": {
  "kernelspec": {
   "display_name": "Python 3",
   "language": "python",
   "name": "python3"
  },
  "language_info": {
   "codemirror_mode": {
    "name": "ipython",
    "version": 2
   },
   "file_extension": ".py",
   "mimetype": "text/x-python",
   "name": "python",
   "nbconvert_exporter": "python",
   "pygments_lexer": "ipython2",
   "version": "2.7.6"
  }
 },
 "nbformat": 4,
 "nbformat_minor": 5
}
